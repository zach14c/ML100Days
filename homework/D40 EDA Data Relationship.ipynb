{
 "cells": [
  {
   "cell_type": "markdown",
   "metadata": {
    "id": "QaFwqkQyE8GE"
   },
   "source": [
    "## 作業\n",
    "在鐵達尼資料集中，今天我們專注觀察變數之間的相關性，以Titanic_train.csv 中，首先將有遺失值的數值刪除，並回答下列問題。\n",
    "* Q1: 透過數值法計算  Age 和  Survived  是否有相關性?\n",
    "* Q2:透過數值法計算  Sex 和 Survived  是否有相關性?\n",
    "* Q3: 透過數值法計算  Age 和  Fare 是否有相關性?   \n",
    "* 提示:    \n",
    "1.產稱一個新的變數 Survived_cate ，資料型態傳換成類別型態      \n",
    "2.把題目中的 Survived 用 Survived_cate 來做分析       \n",
    "3.首先觀察一下這些變數的資料型態後，再來想要以哪一種判斷倆倆的相關性。     \n"
   ]
  },
  {
   "cell_type": "code",
   "execution_count": 1,
   "metadata": {
    "colab": {
     "base_uri": "https://localhost:8080/",
     "height": 369
    },
    "collapsed": true,
    "executionInfo": {
     "elapsed": 2242,
     "status": "error",
     "timestamp": 1601990565808,
     "user": {
      "displayName": "陳家揚",
      "photoUrl": "",
      "userId": "06507357541156510761"
     },
     "user_tz": -480
    },
    "id": "yz28_IgkYdBW",
    "outputId": "c37195aa-ba80-42fd-a703-58827b7ba98c"
   },
   "outputs": [],
   "source": [
    "# import library\n",
    "import matplotlib.pyplot as plt\n",
    "import numpy as np\n",
    "import pandas as pd\n",
    "from scipy import stats\n",
    "import math\n",
    "import statistics\n",
    "import seaborn as sns\n",
    "from IPython.display import display\n",
    "\n",
    "import pingouin as pg\n",
    "import researchpy   \n",
    "%matplotlib inline"
   ]
  },
  {
   "cell_type": "markdown",
   "metadata": {
    "id": "M6YWLLdqE8GI"
   },
   "source": [
    "## 讀入資料"
   ]
  },
  {
   "cell_type": "code",
   "execution_count": 2,
   "metadata": {
    "id": "TnU74t6BE8GI",
    "outputId": "e660f13b-1eef-4268-e06e-0599dd2455da"
   },
   "outputs": [
    {
     "name": "stdout",
     "output_type": "stream",
     "text": [
      "<class 'pandas.core.frame.DataFrame'>\n",
      "Int64Index: 183 entries, 1 to 889\n",
      "Data columns (total 12 columns):\n",
      " #   Column       Non-Null Count  Dtype  \n",
      "---  ------       --------------  -----  \n",
      " 0   PassengerId  183 non-null    int64  \n",
      " 1   Survived     183 non-null    int64  \n",
      " 2   Pclass       183 non-null    int64  \n",
      " 3   Name         183 non-null    object \n",
      " 4   Sex          183 non-null    object \n",
      " 5   Age          183 non-null    float64\n",
      " 6   SibSp        183 non-null    int64  \n",
      " 7   Parch        183 non-null    int64  \n",
      " 8   Ticket       183 non-null    object \n",
      " 9   Fare         183 non-null    float64\n",
      " 10  Cabin        183 non-null    object \n",
      " 11  Embarked     183 non-null    object \n",
      "dtypes: float64(2), int64(5), object(5)\n",
      "memory usage: 18.6+ KB\n",
      "None\n"
     ]
    }
   ],
   "source": [
    "df_train = pd.read_csv(\"Titanic_train.csv\")\n",
    "df_train.dropna(inplace=True)\n",
    "print(df_train.info())\n"
   ]
  },
  {
   "cell_type": "code",
   "execution_count": 3,
   "metadata": {
    "id": "cITJCaELE8GK"
   },
   "outputs": [
    {
     "data": {
      "text/html": [
       "<div>\n",
       "<style scoped>\n",
       "    .dataframe tbody tr th:only-of-type {\n",
       "        vertical-align: middle;\n",
       "    }\n",
       "\n",
       "    .dataframe tbody tr th {\n",
       "        vertical-align: top;\n",
       "    }\n",
       "\n",
       "    .dataframe thead th {\n",
       "        text-align: right;\n",
       "    }\n",
       "</style>\n",
       "<table border=\"1\" class=\"dataframe\">\n",
       "  <thead>\n",
       "    <tr style=\"text-align: right;\">\n",
       "      <th></th>\n",
       "      <th>PassengerId</th>\n",
       "      <th>Survived</th>\n",
       "      <th>Pclass</th>\n",
       "      <th>Name</th>\n",
       "      <th>Sex</th>\n",
       "      <th>Age</th>\n",
       "      <th>SibSp</th>\n",
       "      <th>Parch</th>\n",
       "      <th>Ticket</th>\n",
       "      <th>Fare</th>\n",
       "      <th>Cabin</th>\n",
       "      <th>Embarked</th>\n",
       "      <th>Survived_cate</th>\n",
       "    </tr>\n",
       "  </thead>\n",
       "  <tbody>\n",
       "    <tr>\n",
       "      <th>1</th>\n",
       "      <td>2</td>\n",
       "      <td>1</td>\n",
       "      <td>1</td>\n",
       "      <td>Cumings, Mrs. John Bradley (Florence Briggs Th...</td>\n",
       "      <td>female</td>\n",
       "      <td>38.0</td>\n",
       "      <td>1</td>\n",
       "      <td>0</td>\n",
       "      <td>PC 17599</td>\n",
       "      <td>71.2833</td>\n",
       "      <td>C85</td>\n",
       "      <td>C</td>\n",
       "      <td>Yes</td>\n",
       "    </tr>\n",
       "    <tr>\n",
       "      <th>3</th>\n",
       "      <td>4</td>\n",
       "      <td>1</td>\n",
       "      <td>1</td>\n",
       "      <td>Futrelle, Mrs. Jacques Heath (Lily May Peel)</td>\n",
       "      <td>female</td>\n",
       "      <td>35.0</td>\n",
       "      <td>1</td>\n",
       "      <td>0</td>\n",
       "      <td>113803</td>\n",
       "      <td>53.1000</td>\n",
       "      <td>C123</td>\n",
       "      <td>S</td>\n",
       "      <td>Yes</td>\n",
       "    </tr>\n",
       "    <tr>\n",
       "      <th>6</th>\n",
       "      <td>7</td>\n",
       "      <td>0</td>\n",
       "      <td>1</td>\n",
       "      <td>McCarthy, Mr. Timothy J</td>\n",
       "      <td>male</td>\n",
       "      <td>54.0</td>\n",
       "      <td>0</td>\n",
       "      <td>0</td>\n",
       "      <td>17463</td>\n",
       "      <td>51.8625</td>\n",
       "      <td>E46</td>\n",
       "      <td>S</td>\n",
       "      <td>No</td>\n",
       "    </tr>\n",
       "    <tr>\n",
       "      <th>10</th>\n",
       "      <td>11</td>\n",
       "      <td>1</td>\n",
       "      <td>3</td>\n",
       "      <td>Sandstrom, Miss. Marguerite Rut</td>\n",
       "      <td>female</td>\n",
       "      <td>4.0</td>\n",
       "      <td>1</td>\n",
       "      <td>1</td>\n",
       "      <td>PP 9549</td>\n",
       "      <td>16.7000</td>\n",
       "      <td>G6</td>\n",
       "      <td>S</td>\n",
       "      <td>Yes</td>\n",
       "    </tr>\n",
       "    <tr>\n",
       "      <th>11</th>\n",
       "      <td>12</td>\n",
       "      <td>1</td>\n",
       "      <td>1</td>\n",
       "      <td>Bonnell, Miss. Elizabeth</td>\n",
       "      <td>female</td>\n",
       "      <td>58.0</td>\n",
       "      <td>0</td>\n",
       "      <td>0</td>\n",
       "      <td>113783</td>\n",
       "      <td>26.5500</td>\n",
       "      <td>C103</td>\n",
       "      <td>S</td>\n",
       "      <td>Yes</td>\n",
       "    </tr>\n",
       "  </tbody>\n",
       "</table>\n",
       "</div>"
      ],
      "text/plain": [
       "    PassengerId  Survived  Pclass  \\\n",
       "1             2         1       1   \n",
       "3             4         1       1   \n",
       "6             7         0       1   \n",
       "10           11         1       3   \n",
       "11           12         1       1   \n",
       "\n",
       "                                                 Name     Sex   Age  SibSp  \\\n",
       "1   Cumings, Mrs. John Bradley (Florence Briggs Th...  female  38.0      1   \n",
       "3        Futrelle, Mrs. Jacques Heath (Lily May Peel)  female  35.0      1   \n",
       "6                             McCarthy, Mr. Timothy J    male  54.0      0   \n",
       "10                    Sandstrom, Miss. Marguerite Rut  female   4.0      1   \n",
       "11                           Bonnell, Miss. Elizabeth  female  58.0      0   \n",
       "\n",
       "    Parch    Ticket     Fare Cabin Embarked Survived_cate  \n",
       "1       0  PC 17599  71.2833   C85        C           Yes  \n",
       "3       0    113803  53.1000  C123        S           Yes  \n",
       "6       0     17463  51.8625   E46        S            No  \n",
       "10      1   PP 9549  16.7000    G6        S           Yes  \n",
       "11      0    113783  26.5500  C103        S           Yes  "
      ]
     },
     "execution_count": 3,
     "metadata": {},
     "output_type": "execute_result"
    }
   ],
   "source": [
    "## 這邊我們做一個調整，把 Survived 變成離散型變數 Survived_cate\n",
    "df_train['Survived_cate'] = df_train['Survived'].apply(lambda x: 'Yes' if x==1 else 'No')\n",
    "df_train.head(5)"
   ]
  },
  {
   "cell_type": "code",
   "execution_count": 4,
   "metadata": {
    "collapsed": true
   },
   "outputs": [],
   "source": [
    "def judgment_CramerV(df,V):\n",
    "    if df == 1:\n",
    "        if V < 0.10:\n",
    "            qual = 'negligible'\n",
    "        elif V < 0.30:\n",
    "            qual = 'small'\n",
    "        elif V < 0.50:\n",
    "            qual = 'medium'\n",
    "        else:\n",
    "            qual = 'large'\n",
    "    elif df == 2:\n",
    "        if V < 0.07:\n",
    "            qual = 'negligible'\n",
    "        elif V < 0.21:\n",
    "            qual = 'small'\n",
    "        elif V < 0.35:\n",
    "            qual = 'medium'\n",
    "        else:\n",
    "            qual = 'large'\n",
    "    elif df == 3:\n",
    "        if V < 0.06:\n",
    "            qual = 'negligible'\n",
    "        elif V < 0.17:\n",
    "            qual = 'small'\n",
    "        elif V < 0.29:\n",
    "            qual = 'medium'\n",
    "        else:\n",
    "            qual = 'large'\n",
    "    elif df == 4:\n",
    "        if V < 0.05:\n",
    "            qual = 'negligible'\n",
    "        elif V < 0.15:\n",
    "            qual = 'small'\n",
    "        elif V < 0.25:\n",
    "            qual = 'medium'\n",
    "        else:\n",
    "            qual = 'large'\n",
    "    else:\n",
    "        if V < 0.05:\n",
    "            qual = 'negligible'\n",
    "        elif V < 0.13:\n",
    "            qual = 'small'\n",
    "        elif V < 0.22:\n",
    "            qual = 'medium'\n",
    "        else:\n",
    "            qual = 'large'\n",
    "    return(qual)\n",
    "\n"
   ]
  },
  {
   "cell_type": "markdown",
   "metadata": {
    "id": "YN-BISG4E8GM"
   },
   "source": [
    "###  Q1: 透過數值法計算  Age 和  Survived  是否有相關性?\n"
   ]
  },
  {
   "cell_type": "code",
   "execution_count": 5,
   "metadata": {},
   "outputs": [
    {
     "name": "stdout",
     "output_type": "stream",
     "text": [
      "Cramer's value is 0.6564\n",
      "large\n"
     ]
    }
   ],
   "source": [
    "crosstab, res = researchpy.crosstab(df_train['Age'], df_train['Survived'], test='chi-square')\n",
    "print(\"Cramer's value is\",res.loc[2,'results'])\n",
    "contTable = pd.crosstab(df_train['Age'], df_train['Survived'])\n",
    "df = min(contTable.shape[0], contTable.shape[1]) - 1\n",
    "print(judgment_CramerV(df,res.loc[2,'results']))"
   ]
  },
  {
   "cell_type": "markdown",
   "metadata": {},
   "source": [
    "## 高度相關"
   ]
  },
  {
   "cell_type": "markdown",
   "metadata": {
    "id": "8dlu8RnNE8GN"
   },
   "source": [
    "### Q2:透過數值法計算  Sex 和 Survived  是否有相關性?\n"
   ]
  },
  {
   "cell_type": "code",
   "execution_count": 6,
   "metadata": {},
   "outputs": [
    {
     "name": "stdout",
     "output_type": "stream",
     "text": [
      "Cramer's value is 0.5324\n",
      "large\n"
     ]
    }
   ],
   "source": [
    "crosstab, res = researchpy.crosstab(df_train['Sex'], df_train['Survived'], test='chi-square')\n",
    "print(\"Cramer's value is\",res.loc[2,'results'])\n",
    "contTable = pd.crosstab(df_train['Sex'], df_train['Survived'])\n",
    "df = min(contTable.shape[0], contTable.shape[1]) - 1\n",
    "print(judgment_CramerV(df,res.loc[2,'results']))"
   ]
  },
  {
   "cell_type": "markdown",
   "metadata": {},
   "source": [
    "## 高度相關"
   ]
  },
  {
   "cell_type": "markdown",
   "metadata": {
    "id": "6SxLGI6sE8GN"
   },
   "source": [
    "### Q3: 透過數值法計算  Age 和  Fare 是否有相關性?  "
   ]
  },
  {
   "cell_type": "code",
   "execution_count": 7,
   "metadata": {},
   "outputs": [
    {
     "name": "stdout",
     "output_type": "stream",
     "text": [
      "Cramer's value is 0.6938\n",
      "large\n"
     ]
    }
   ],
   "source": [
    "crosstab, res = researchpy.crosstab(df_train['Age'], df_train['Fare'], test='chi-square')\n",
    "print(\"Cramer's value is\",res.loc[2,'results'])\n",
    "contTable = pd.crosstab(df_train['Sex'], df_train['Survived'])\n",
    "df = min(contTable.shape[0], contTable.shape[1]) - 1\n",
    "print(judgment_CramerV(df,res.loc[2,'results']))"
   ]
  },
  {
   "cell_type": "markdown",
   "metadata": {},
   "source": [
    "## 高度相關"
   ]
  }
 ],
 "metadata": {
  "colab": {
   "name": "作業.ipynb",
   "provenance": []
  },
  "kernelspec": {
   "display_name": "Python 3",
   "language": "python",
   "name": "python3"
  },
  "language_info": {
   "codemirror_mode": {
    "name": "ipython",
    "version": 3
   },
   "file_extension": ".py",
   "mimetype": "text/x-python",
   "name": "python",
   "nbconvert_exporter": "python",
   "pygments_lexer": "ipython3",
   "version": "3.6.6"
  }
 },
 "nbformat": 4,
 "nbformat_minor": 1
}
