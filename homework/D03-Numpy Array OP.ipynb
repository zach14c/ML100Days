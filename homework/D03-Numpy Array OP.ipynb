{
 "cells": [
  {
   "cell_type": "code",
   "execution_count": 2,
   "metadata": {
    "collapsed": true
   },
   "outputs": [],
   "source": [
    "import numpy as np"
   ]
  },
  {
   "cell_type": "markdown",
   "metadata": {},
   "source": [
    "<img src=\"https://lh3.googleusercontent.com/lGzbBP-1C8A2MazokuOEyFKCuCoMTu4GydYEVM0SxFJnjSMad6AKxFxLYKVrzYyRuNzaCrgqC4DCDc-qx98N7tWeZ1Xgcx_GLxAMLt0iArt_lDNuPrU9JB9KYP9UsqbPdzq_NJpYoHU?t=1611039659722\">"
   ]
  },
  {
   "cell_type": "code",
   "execution_count": 6,
   "metadata": {
    "collapsed": true
   },
   "outputs": [],
   "source": [
    "#1.正常的談話的聲壓為20000微巴斯卡，請問多少分貝?\n",
    "# 請寫下程式\n",
    "V1 = 20000\n",
    "V0 = 20\n"
   ]
  },
  {
   "cell_type": "code",
   "execution_count": 43,
   "metadata": {},
   "outputs": [
    {
     "data": {
      "text/plain": [
       "60.0"
      ]
     },
     "execution_count": 43,
     "metadata": {},
     "output_type": "execute_result"
    }
   ],
   "source": [
    "gdb = 20*np.log10(V1/V0)\n",
    "gdb"
   ]
  },
  {
   "cell_type": "code",
   "execution_count": 12,
   "metadata": {
    "collapsed": true
   },
   "outputs": [],
   "source": [
    "#2.30分貝的聲壓會是50分貝的幾倍?\n",
    "#公式移項過後可以得到 V1 = ?\n",
    "#請寫下程式"
   ]
  },
  {
   "cell_type": "code",
   "execution_count": 49,
   "metadata": {},
   "outputs": [
    {
     "name": "stdout",
     "output_type": "stream",
     "text": [
      "V1 of 30GdB=632.4555320336759,V1 of 50GdB=6324.55532033676,30分貝的聲壓會是50分貝的幾倍=0.09999999999999999\n",
      "V1 of 30GdB=632.4555320336759,V1 of 50GdB=6324.55532033676,50分貝的聲壓會是30分貝的幾倍=10.000000000000002\n"
     ]
    }
   ],
   "source": [
    "B60_V1=np.power(10,(60/20+np.log10(V0)))\n",
    "B30_V1=np.power(10,(30/20+np.log10(V0)))\n",
    "B50_V1=np.power(10,(50/20+np.log10(V0)))\n",
    "print(\"V1 of 30GdB={0},V1 of 50GdB={1},30分貝的聲壓會是50分貝的幾倍={2}\".format(B30_V1,B50_V1,B30_V1/B50_V1))\n",
    "print(\"V1 of 30GdB={0},V1 of 50GdB={1},50分貝的聲壓會是30分貝的幾倍={2}\".format(B30_V1,B50_V1,B50_V1/B30_V1))"
   ]
  }
 ],
 "metadata": {
  "kernelspec": {
   "display_name": "Python 3",
   "language": "python",
   "name": "python3"
  },
  "language_info": {
   "codemirror_mode": {
    "name": "ipython",
    "version": 3
   },
   "file_extension": ".py",
   "mimetype": "text/x-python",
   "name": "python",
   "nbconvert_exporter": "python",
   "pygments_lexer": "ipython3",
   "version": "3.6.6"
  }
 },
 "nbformat": 4,
 "nbformat_minor": 2
}
