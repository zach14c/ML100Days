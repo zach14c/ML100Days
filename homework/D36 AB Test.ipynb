{
 "cells": [
  {
   "cell_type": "markdown",
   "metadata": {},
   "source": [
    "## 作業:\n",
    "某工廠想知道兩條不同的生產線的產品不良率是否有所不同，由兩條生產線中各抽取 300 個樣本，第一組有  75 個不良品，第二組有 30 個不良品，我們可以宣稱生產線所生產出的產品不良率不相同? (以 0.05 為顯著水準)?    \n",
    "(提示:透過課程投影片的步驟，需思考 𝐻_0、 𝐻_1 的寫法和範例不同唷。)   \n",
    "\n"
   ]
  },
  {
   "cell_type": "code",
   "execution_count": 1,
   "metadata": {
    "colab": {
     "base_uri": "https://localhost:8080/",
     "height": 34
    },
    "colab_type": "code",
    "collapsed": true,
    "executionInfo": {
     "elapsed": 1558,
     "status": "ok",
     "timestamp": 1578021044012,
     "user": {
      "displayName": "Mora chen",
      "photoUrl": "https://lh3.googleusercontent.com/a-/AAuE7mB40f7sDArbZ5_DYq02nNcnLD0Ryaf7AhsASSQeLQ=s64",
      "userId": "03171203089166907199"
     },
     "user_tz": -480
    },
    "id": "yz28_IgkYdBW",
    "outputId": "a12f486c-18b3-4fb5-d06c-f162aebd9444"
   },
   "outputs": [],
   "source": [
    "# library\n",
    "import matplotlib.pyplot as plt\n",
    "import numpy as np\n",
    "import pandas as pd\n",
    "from scipy import stats\n",
    "import math\n",
    "import statistics\n",
    "import seaborn as sns\n",
    "import statsmodels.stats.proportion"
   ]
  },
  {
   "cell_type": "markdown",
   "metadata": {},
   "source": [
    "## 透過套件進行運算 \n",
    "* https://www.statsmodels.org/0.8.0/generated/statsmodels.stats.proportion.proportions_ztest.html   \n",
    "* 語法 for 雙樣本比例檢定     \n",
    "   * statsmodels.stats.proportion.proportions_ztest(A, B, alternative='smaller')\n",
    "* 參數說明:\n",
    "    * A: 兩組開信的人數\n",
    "    * B: 兩組的總人數\n",
    "    *alternative: ‘two-sided’, ‘smaller’, ‘larger’ 分別代表 雙尾檢定，左尾檢定與右尾檢定\n",
    "* 輸出\n",
    "    * Z-test: 檢定量\n",
    "    * P-value: 這樣檢定量下的 p-value值"
   ]
  },
  {
   "cell_type": "code",
   "execution_count": 2,
   "metadata": {},
   "outputs": [
    {
     "name": "stdout",
     "output_type": "stream",
     "text": [
      "p value = 0.00000133\n"
     ]
    }
   ],
   "source": [
    "# H0: uA-uB=0\n",
    "# H1: uA-uB<>0\n",
    "\n",
    "A = [75,30] #不良品個數\n",
    "B = [300,300] #各組實驗數\n",
    "(Z, pVal) = statsmodels.stats.proportion.proportions_ztest(A, B, alternative='two-sided')\n",
    "print(\"p value = {0:.8f}\".format(pVal))\n"
   ]
  },
  {
   "cell_type": "markdown",
   "metadata": {},
   "source": [
    "## p value < 0.01 差異顯著,拒絕H0,兩生產線良率不同"
   ]
  }
 ],
 "metadata": {
  "colab": {
   "name": "Day33.YOLO 細節理解 - 網路輸出的後處理_HW.ipynb",
   "provenance": []
  },
  "kernelspec": {
   "display_name": "Python 3",
   "language": "python",
   "name": "python3"
  },
  "language_info": {
   "codemirror_mode": {
    "name": "ipython",
    "version": 3
   },
   "file_extension": ".py",
   "mimetype": "text/x-python",
   "name": "python",
   "nbconvert_exporter": "python",
   "pygments_lexer": "ipython3",
   "version": "3.6.6"
  }
 },
 "nbformat": 4,
 "nbformat_minor": 1
}
