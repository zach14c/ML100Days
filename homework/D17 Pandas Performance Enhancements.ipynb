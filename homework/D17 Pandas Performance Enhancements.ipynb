{
 "cells": [
  {
   "cell_type": "markdown",
   "metadata": {},
   "source": [
    "## 1. 在速度較慢的時候，可以先從哪邊開始檢查？\n",
    "\n",
    "* 讀取檔案格式檢查\n",
    "* 是否使用pandas的內建函數\n",
    "* 載入資料的型態是否可轉為佔有空間較小的型態,如uint,float32\n"
   ]
  },
  {
   "cell_type": "markdown",
   "metadata": {},
   "source": [
    "## 2. 資料過⼤時應採取什麼⽅式讓記憶體占⽤量下降？\n",
    "\n",
    "* 將欄位的型態降級\n",
    "* 如 int32 使用 uint 取代\n",
    "* float64 使用 float32 取代"
   ]
  }
 ],
 "metadata": {
  "kernelspec": {
   "display_name": "Python 3",
   "language": "python",
   "name": "python3"
  },
  "language_info": {
   "codemirror_mode": {
    "name": "ipython",
    "version": 3
   },
   "file_extension": ".py",
   "mimetype": "text/x-python",
   "name": "python",
   "nbconvert_exporter": "python",
   "pygments_lexer": "ipython3",
   "version": "3.6.6"
  }
 },
 "nbformat": 4,
 "nbformat_minor": 2
}
